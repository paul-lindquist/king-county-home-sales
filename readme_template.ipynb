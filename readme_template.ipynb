{
 "cells": [
  {
   "cell_type": "markdown",
   "metadata": {},
   "source": [
    "![banner](./data/home-sales-shutterstock-295804091-1068x601.jpg)"
   ]
  },
  {
   "cell_type": "markdown",
   "metadata": {},
   "source": [
    "# King County Home Sales\n",
    "**Authors:** [Jerry Vasquez](https://www.linkedin.com/in/jerry-vasquez-832b71224/), [Paul Lindquist](https://www.linkedin.com/in/paul-lindquist/), [Vu Brown](https://www.linkedin.com/in/austin-brown-b5211384/)"
   ]
  },
  {
   "cell_type": "markdown",
   "metadata": {},
   "source": [
    "## Overview\n",
    "***\n",
    "This project assumes that we work for a real estate company in King County, Washington. We're tasked with providing data-driven recommendations for buying and selling homes."
   ]
  },
  {
   "cell_type": "markdown",
   "metadata": {},
   "source": [
    "## Business Problem\n",
    "***\n",
    "The company wants recommendations for customers looking to buy a home and for customers looking to sell their home.\n",
    "\n",
    "As such, recommendations will be divided into 2 categories: buying homes and selling homes.\n",
    "\n",
    "Buying homes:\n",
    "- Use housing data (comps) of recently sold homes to create an inferential model\n",
    "    - Model will be built using linear regression and selected variables (features) that best work with the target (price)\n",
    "- Use the inferential model to assess what houses are underpriced or overpriced for customers looking to buy a home\n",
    "\n",
    "Selling homes:\n",
    "- Build a predictive model using comps of recently sold homes\n",
    "    - Model will also be built using linear regression but use a more wholistic approach with features that could possibly add additional value\n",
    "- Use the predictive model to recommend what price should be assigned to homes that will be sold by the company"
   ]
  },
  {
   "cell_type": "markdown",
   "metadata": {},
   "source": [
    "## Data\n",
    "***\n",
    "This project uses the King County House Sales dataset, which can be found [here](https://www.kaggle.com/harlfoxem/housesalesprediction)."
   ]
  },
  {
   "cell_type": "markdown",
   "metadata": {},
   "source": [
    "## Methods\n",
    "***\n",
    "We'll conduct descriptive analysis, linear regression and modeling (inferential, predictive)."
   ]
  },
  {
   "cell_type": "markdown",
   "metadata": {},
   "source": [
    "## Results\n",
    "***\n",
    "These are home prices across King County that comprise 99.7% (3 standard deviations) of our dataset. The more expensive houses tend to have a view/waterfront. We can also see a cluster of higher-priced homes centered around western Bellevue and Mercer Island.\n",
    "\n",
    "![sales_map](./data/map_no_outliers.png)\n",
    "\n",
    "These are the coefficients of the features we used in our final inferential model. The negative values for bedrooms, bathrooms and lot size are indicative of the challenges our models encountered with the dataset.\n",
    "\n",
    "![coefficients](./data/coefficients_crop.jpg)\n",
    "\n",
    "Running our predictive model built on 12 home features, we're able to predict what price point should be used when selling a customer's house. Given the high price variance, it's not recommended to solely use our predictive model in determining price.\n",
    "\n",
    "![predicted_RMSE](./data/predictiveRMSE.png)"
   ]
  },
  {
   "cell_type": "markdown",
   "metadata": {},
   "source": [
    "## Conclusions\n",
    "***\n",
    "Given the provided dataset and linear regression approach, both our inferential and predictive models did not perform as well as we had hoped.\n",
    "- For the inferential model, homoscedasticity was poor, multicollinearity (VIF) was too high and the RMSE range was north of \\$173k+. Linearity and normality performed decently.\n",
    "- For the predictive model, multicollinearity (VIF) was too high for several features, the model score was an underwhelming .601629 and the RMSE range of \\$193k+ was too great to provide any predictive value. Linearity and homoscedasticity were decent and normality was excellent, due to normalizing the data in pre-processing.\n",
    "\n",
    "We recommend not using our models for predictive purposes and perhaps looking into a different dataset and/or different modeling approaches other than linear regression."
   ]
  },
  {
   "cell_type": "markdown",
   "metadata": {},
   "source": [
    "## For More Information\n",
    "***\n",
    "Please review our full analysis in our [Jupyter Notebook](./main_notebook.ipynb) or [presentation deck](./project_Presentation.pdf).\n",
    "\n",
    "For additional questions, please contact [Jerry](mailto:jerryvas21@gmail.com), [Paul](mailto:paullindquist@fastmail.com) or [Vu](mailto:avbrown313@gmail.com)."
   ]
  },
  {
   "cell_type": "markdown",
   "metadata": {},
   "source": [
    "## Repository Structure\n",
    "***\n",
    "```\n",
    "├── README.md                           <- The top-level README for reviewers of this project\n",
    "├── main_notebook.ipynb                 <- Narrative documentation of analysis in Jupyter notebook\n",
    "├── project_presentation.pdf            <- PDF version of project presentation\n",
    "├── data                                <- Both sourced externally and generated from code\n",
    "└── images                              <- Both sourced externally and generated from code\n",
    "```"
   ]
  }
 ],
 "metadata": {
  "kernelspec": {
   "display_name": "Python 3",
   "language": "python",
   "name": "python3"
  },
  "language_info": {
   "codemirror_mode": {
    "name": "ipython",
    "version": 3
   },
   "file_extension": ".py",
   "mimetype": "text/x-python",
   "name": "python",
   "nbconvert_exporter": "python",
   "pygments_lexer": "ipython3",
   "version": "3.8.5"
  }
 },
 "nbformat": 4,
 "nbformat_minor": 2
}
